{
  "nbformat": 4,
  "nbformat_minor": 0,
  "metadata": {
    "colab": {
      "provenance": [],
      "include_colab_link": true
    },
    "kernelspec": {
      "name": "python3",
      "display_name": "Python 3"
    },
    "language_info": {
      "name": "python"
    }
  },
  "cells": [
    {
      "cell_type": "markdown",
      "metadata": {
        "id": "view-in-github",
        "colab_type": "text"
      },
      "source": [
        "<a href=\"https://colab.research.google.com/github/aman06012003/hackathon/blob/main/NER_updated.ipynb\" target=\"_parent\"><img src=\"https://colab.research.google.com/assets/colab-badge.svg\" alt=\"Open In Colab\"/></a>"
      ]
    },
    {
      "cell_type": "markdown",
      "source": [
        "News API"
      ],
      "metadata": {
        "id": "Q6Wov4r-zp91"
      }
    },
    {
      "cell_type": "markdown",
      "source": [
        "Full function"
      ],
      "metadata": {
        "id": "nzYlvuTF1DFk"
      }
    },
    {
      "cell_type": "code",
      "source": [
        "import nltk\n",
        "from nltk.tokenize import word_tokenize\n",
        "from nltk.tag import pos_tag\n",
        "nltk.download('punkt')\n",
        "nltk.download('averaged_perceptron_tagger')\n",
        "import spacy\n",
        "from spacy import displacy\n",
        "from collections import Counter\n",
        "import en_core_web_sm\n",
        "nlp = en_core_web_sm.load()\n",
        "\n",
        "import requests\n",
        "from bs4 import BeautifulSoup\n",
        "import numpy as np\n",
        "import pandas as pd\n",
        "import time \n",
        "from nltk.tokenize import sent_tokenize\n",
        "\n",
        "import spacy\n",
        "from spacy.lang.en.stop_words import STOP_WORDS\n",
        "from string import punctuation\n",
        "from heapq import nlargest"
      ],
      "metadata": {
        "colab": {
          "base_uri": "https://localhost:8080/"
        },
        "id": "iXvhfoKwztwv",
        "outputId": "2fa51d3d-cb2a-4dfa-e8f7-83277e40a923"
      },
      "execution_count": null,
      "outputs": [
        {
          "output_type": "stream",
          "name": "stderr",
          "text": [
            "[nltk_data] Downloading package punkt to /root/nltk_data...\n",
            "[nltk_data]   Unzipping tokenizers/punkt.zip.\n",
            "[nltk_data] Downloading package averaged_perceptron_tagger to\n",
            "[nltk_data]     /root/nltk_data...\n",
            "[nltk_data]   Unzipping taggers/averaged_perceptron_tagger.zip.\n",
            "/usr/local/lib/python3.8/dist-packages/torch/cuda/__init__.py:497: UserWarning: Can't initialize NVML\n",
            "  warnings.warn(\"Can't initialize NVML\")\n"
          ]
        }
      ]
    },
    {
      "cell_type": "code",
      "source": [
        "import re\n",
        "\n",
        "CLEANR = re.compile('<.*?>') \n"
      ],
      "metadata": {
        "id": "w9RMXW2p1N7z"
      },
      "execution_count": null,
      "outputs": []
    },
    {
      "cell_type": "code",
      "source": [
        "def cleanhtml(raw_html):\n",
        "  cleantext = re.sub(CLEANR, '', raw_html)\n",
        "  return cleantext"
      ],
      "metadata": {
        "id": "mYpViNRl1QVK"
      },
      "execution_count": null,
      "outputs": []
    },
    {
      "cell_type": "code",
      "source": [
        "def func(ent,name):\n",
        "    for x in ent.split(\" \"):\n",
        "        if x in name.split(\" \"):\n",
        "            return True\n",
        "    \n",
        "    return False"
      ],
      "metadata": {
        "id": "RwTHYU0U2ju6"
      },
      "execution_count": null,
      "outputs": []
    },
    {
      "cell_type": "code",
      "source": [
        "name = input()"
      ],
      "metadata": {
        "colab": {
          "base_uri": "https://localhost:8080/"
        },
        "id": "q5DxL-iE3hcr",
        "outputId": "2feb858e-5d56-496d-d8d0-93255e0b5ee1"
      },
      "execution_count": null,
      "outputs": [
        {
          "name": "stdout",
          "output_type": "stream",
          "text": [
            "Amitesh\n"
          ]
        }
      ]
    },
    {
      "cell_type": "code",
      "source": [
        "for i in range(df.shape[0]):\n",
        "  relevant_passages = []\n",
        "\n",
        "  url = df[\"link\"][i]\n",
        "  # url = \"https://news.google.com/__i/rss/rd/articles/CBMidmh0dHBzOi8vd3d3LmRlY2NhbmhlcmFsZC5jb20vb3Bpbmlvbi9hbmFseXNpbmctYS1tYXN0ZXJzdHJva2UtbW9kaS1nb3Z0LWN1dHMtZm9vZC1hbGxvY2F0aW9uLWZvci10aGUtcG9vci0xMTc3MTQ4Lmh0bWzSAXpodHRwczovL3d3dy5kZWNjYW5oZXJhbGQuY29tL2FtcC9vcGluaW9uL2FuYWx5c2luZy1hLW1hc3RlcnN0cm9rZS1tb2RpLWdvdnQtY3V0cy1mb29kLWFsbG9jYXRpb24tZm9yLXRoZS1wb29yLTExNzcxNDguaHRtbA?oc=5\"\n",
        "  r1 = requests.get(url)\n",
        "\n",
        "\n",
        "  coverpage = r1.content\n",
        "\n",
        "\n",
        "  soup1 = BeautifulSoup(coverpage, 'html5lib')\n",
        "\n",
        "\n",
        "  coverpage_news = soup1.find_all('p')\n",
        "\n",
        "\n",
        "  coverpage_news = str(coverpage_news)\n",
        "\n",
        "\n",
        "  coverpage = cleanhtml(coverpage_news)\n",
        "\n",
        "  text = coverpage\n",
        "  text = str(text)\n",
        "  lst = sent_tokenize(text)\n",
        "  min = []\n",
        "  flag=0\n",
        "  for i in lst:\n",
        "    article = nlp(i)\n",
        "    if(flag==1):\n",
        "      for word in article:\n",
        "        if (word.pos_ == \"PRON\"):\n",
        "          min.append(i)\n",
        "          flag=0\n",
        "    for ent in article.ents:\n",
        "      if (ent.label_ == \"PERSON\" and (ent.text == \"Shri Narendra Modi\" or func(\"Shri Narendra Modi\",ent.text))):  #and ent.text == \"Anthony Albanese\"\n",
        "        min.append(i)\n",
        "        flag=1\n",
        "      else:\n",
        "        flag=0\n",
        "\n",
        "  min = set(min)\n",
        "  min = list(min)\n",
        "  relevant_passages.append(min)\n",
        "\n"
      ],
      "metadata": {
        "id": "Tyyy--0I1RRe"
      },
      "execution_count": null,
      "outputs": []
    },
    {
      "cell_type": "code",
      "source": [
        "final_list=[]\n",
        "for i in relevant_passages:\n",
        "  for j in i:\n",
        "    final_list.append(j)"
      ],
      "metadata": {
        "id": "__UsO-zY4A-r"
      },
      "execution_count": null,
      "outputs": []
    },
    {
      "cell_type": "code",
      "source": [
        "final_str = ''\n",
        "for i in final_list:\n",
        "  final_str+=i"
      ],
      "metadata": {
        "id": "mWjEjZCb916a"
      },
      "execution_count": null,
      "outputs": []
    },
    {
      "cell_type": "code",
      "source": [
        "def summarize(final_str, per=0.6):\n",
        "    nlp = spacy.load('en_core_web_sm')\n",
        "    doc= nlp(text)\n",
        "    tokens=[token.text for token in doc]\n",
        "    word_frequencies={}\n",
        "    for word in doc:\n",
        "        if word.text.lower() not in list(STOP_WORDS):\n",
        "            if word.text.lower() not in punctuation:\n",
        "                if word.text not in word_frequencies.keys():\n",
        "                    word_frequencies[word.text] = 1\n",
        "                else:\n",
        "                    word_frequencies[word.text] += 1\n",
        "    max_frequency=max(word_frequencies.values())\n",
        "    for word in word_frequencies.keys():\n",
        "        word_frequencies[word]=word_frequencies[word]/max_frequency\n",
        "    sentence_tokens= [sent for sent in doc.sents]\n",
        "    sentence_scores = {}\n",
        "    for sent in sentence_tokens:\n",
        "        for word in sent:\n",
        "            if word.text.lower() in word_frequencies.keys():\n",
        "                if sent not in sentence_scores.keys():                            \n",
        "                    sentence_scores[sent]=word_frequencies[word.text.lower()]\n",
        "                else:\n",
        "                    sentence_scores[sent]+=word_frequencies[word.text.lower()]\n",
        "    select_length=int(len(sentence_tokens)*per)\n",
        "    summary=nlargest(select_length, sentence_scores,key=sentence_scores.get)\n",
        "    final_summary=[word.text for word in summary]\n",
        "    summary=''.join(final_summary)\n",
        "    return summary"
      ],
      "metadata": {
        "id": "O-Xy6e0_8vHc"
      },
      "execution_count": null,
      "outputs": []
    },
    {
      "cell_type": "code",
      "source": [],
      "metadata": {
        "id": "kMV6VNnN-8dk"
      },
      "execution_count": null,
      "outputs": []
    }
  ]
}