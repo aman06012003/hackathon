{
  "nbformat": 4,
  "nbformat_minor": 0,
  "metadata": {
    "colab": {
      "provenance": [],
      "include_colab_link": true
    },
    "kernelspec": {
      "name": "python3",
      "display_name": "Python 3"
    },
    "language_info": {
      "name": "python"
    }
  },
  "cells": [
    {
      "cell_type": "markdown",
      "metadata": {
        "id": "view-in-github",
        "colab_type": "text"
      },
      "source": [
        "<a href=\"https://colab.research.google.com/github/aman06012003/hackathon/blob/main/named_entity_recognition.ipynb\" target=\"_parent\"><img src=\"https://colab.research.google.com/assets/colab-badge.svg\" alt=\"Open In Colab\"/></a>"
      ]
    },
    {
      "cell_type": "code",
      "execution_count": null,
      "metadata": {
        "id": "Ho3ZnfxDkhqC",
        "colab": {
          "base_uri": "https://localhost:8080/"
        },
        "outputId": "2e388a50-1eed-4e79-d360-4bb9256d3102"
      },
      "outputs": [
        {
          "output_type": "stream",
          "name": "stdout",
          "text": [
            "Collecting beautifulsoup4<5.0.0,>=4.9.1\n",
            "  Downloading beautifulsoup4-4.11.1-py3-none-any.whl (128 kB)\n",
            "\u001b[?25l     \u001b[90m━━━━━━━━━━━━━━━━━━━━━━━━━━━━━━━━━━━━━━━━\u001b[0m \u001b[32m0.0/128.2 KB\u001b[0m \u001b[31m?\u001b[0m eta \u001b[36m-:--:--\u001b[0m\r\u001b[2K     \u001b[90m━━━━━━━━━━━━━━━━━━━━━━━━━━━━━━━━━━━━━━\u001b[0m \u001b[32m128.2/128.2 KB\u001b[0m \u001b[31m15.6 MB/s\u001b[0m eta \u001b[36m0:00:00\u001b[0m\n",
            "\u001b[?25hCollecting soupsieve>1.2\n",
            "  Downloading soupsieve-2.3.2.post1-py3-none-any.whl (37 kB)\n",
            "Requirement already satisfied: pytz in /usr/local/lib/python3.8/dist-packages (from dateparser<0.8.0,>=0.7.6->pygooglenews) (2022.7)\n",
            "Requirement already satisfied: tzlocal in /usr/local/lib/python3.8/dist-packages (from dateparser<0.8.0,>=0.7.6->pygooglenews) (1.5.1)\n",
            "Requirement already satisfied: regex!=2019.02.19 in /usr/local/lib/python3.8/dist-packages (from dateparser<0.8.0,>=0.7.6->pygooglenews) (2022.6.2)\n",
            "Requirement already satisfied: python-dateutil in /usr/local/lib/python3.8/dist-packages (from dateparser<0.8.0,>=0.7.6->pygooglenews) (2.8.2)\n",
            "Requirement already satisfied: chardet<5,>=3.0.2 in /usr/local/lib/python3.8/dist-packages (from requests<3.0.0,>=2.24.0->pygooglenews) (4.0.0)\n",
            "Requirement already satisfied: idna<3,>=2.5 in /usr/local/lib/python3.8/dist-packages (from requests<3.0.0,>=2.24.0->pygooglenews) (2.10)\n",
            "Requirement already satisfied: certifi>=2017.4.17 in /usr/local/lib/python3.8/dist-packages (from requests<3.0.0,>=2.24.0->pygooglenews) (2022.12.7)\n",
            "Requirement already satisfied: urllib3<1.27,>=1.21.1 in /usr/local/lib/python3.8/dist-packages (from requests<3.0.0,>=2.24.0->pygooglenews) (1.24.3)\n",
            "Requirement already satisfied: six>=1.5 in /usr/local/lib/python3.8/dist-packages (from python-dateutil->dateparser<0.8.0,>=0.7.6->pygooglenews) (1.15.0)\n",
            "Building wheels for collected packages: feedparser\n",
            "  Building wheel for feedparser (setup.py) ... \u001b[?25l\u001b[?25hdone\n",
            "  Created wheel for feedparser: filename=feedparser-5.2.1-py3-none-any.whl size=44951 sha256=09602f2676949545944f252ee3935902a6f44905948e46a802c0b2e3cfc38af3\n",
            "  Stored in directory: /root/.cache/pip/wheels/67/38/07/59c89c3d334e7f1f743898af6d21c15ecb3588ad04af7ddee0\n",
            "Successfully built feedparser\n",
            "Installing collected packages: feedparser, soupsieve, dateparser, beautifulsoup4, pygooglenews\n",
            "  Attempting uninstall: beautifulsoup4\n",
            "    Found existing installation: beautifulsoup4 4.6.3\n",
            "    Uninstalling beautifulsoup4-4.6.3:\n",
            "      Successfully uninstalled beautifulsoup4-4.6.3\n",
            "Successfully installed beautifulsoup4-4.11.1 dateparser-0.7.6 feedparser-5.2.1 pygooglenews-0.1.2 soupsieve-2.3.2.post1\n"
          ]
        }
      ],
      "source": [
        "!pip install pygooglenews"
      ]
    },
    {
      "cell_type": "code",
      "source": [
        "pip freeze > requirements.txt"
      ],
      "metadata": {
        "id": "5QB8usDTUxPw"
      },
      "execution_count": null,
      "outputs": []
    },
    {
      "cell_type": "code",
      "source": [
        "from pygooglenews import GoogleNews\n",
        "import pandas as pd"
      ],
      "metadata": {
        "id": "7PSxwfjkksvX"
      },
      "execution_count": null,
      "outputs": []
    },
    {
      "cell_type": "code",
      "source": [
        "# Creating a google news API\n",
        "gn = GoogleNews(lang='en',country='INDIA')"
      ],
      "metadata": {
        "id": "ZI1MUoaIk9yf"
      },
      "execution_count": null,
      "outputs": []
    },
    {
      "cell_type": "code",
      "source": [
        "gn"
      ],
      "metadata": {
        "id": "usoL4ZAV-BII"
      },
      "execution_count": null,
      "outputs": []
    },
    {
      "cell_type": "code",
      "source": [
        "    # Creating a search\n",
        "search = gn.search('Narendra Modi')"
      ],
      "metadata": {
        "id": "R6OPSupylUYj"
      },
      "execution_count": null,
      "outputs": []
    },
    {
      "cell_type": "code",
      "source": [
        "search"
      ],
      "metadata": {
        "id": "n8hDqCdD_5EU"
      },
      "execution_count": null,
      "outputs": []
    },
    {
      "cell_type": "code",
      "source": [
        "for i in search['entries']:\n",
        "  print(i)"
      ],
      "metadata": {
        "id": "QZSfCuphlfF9"
      },
      "execution_count": null,
      "outputs": []
    },
    {
      "cell_type": "code",
      "source": [
        "# Looping through articles\n",
        "articles = search['entries']\n",
        "for i in articles:\n",
        "  print(i.title)"
      ],
      "metadata": {
        "id": "KDgZHttplkEZ"
      },
      "execution_count": null,
      "outputs": []
    },
    {
      "cell_type": "code",
      "source": [
        "articles[0].title"
      ],
      "metadata": {
        "id": "TXfKYImtco9r"
      },
      "execution_count": null,
      "outputs": []
    },
    {
      "cell_type": "code",
      "source": [
        "articles"
      ],
      "metadata": {
        "id": "2AwJPv7HA1Ra"
      },
      "execution_count": null,
      "outputs": []
    },
    {
      "cell_type": "code",
      "source": [
        "# Function to search the keyword we want\n",
        "def get_titles(search):\n",
        "  gn = GoogleNews(lang = 'en',country='INDIA')\n",
        "  search = gn.search(search)\n",
        "  articles = search['entries']\n",
        "  for i in articles:\n",
        "    print(i.title)\n"
      ],
      "metadata": {
        "id": "s5u7WjzjnOtg"
      },
      "execution_count": null,
      "outputs": []
    },
    {
      "cell_type": "code",
      "source": [
        "# function to create a dictionary oftitle and sentiment\n",
        "def get_data(keyword):\n",
        "  news = []\n",
        "  gn = GoogleNews(lang = 'en',country='INDIA')\n",
        "  search = gn.search(keyword)\n",
        "  articles = search['entries']\n",
        "  for i in articles:\n",
        "    article = {'title':i.title,'link':i.link,'published':i.published}\n",
        "    news.append(article)\n",
        "  return news\n",
        "\n",
        "data = get_data('Narendra Modi')\n",
        "data"
      ],
      "metadata": {
        "id": "E7fA16k7oK1u"
      },
      "execution_count": null,
      "outputs": []
    },
    {
      "cell_type": "code",
      "source": [
        "df = pd.DataFrame(data)"
      ],
      "metadata": {
        "id": "1BNkpXiboPDR"
      },
      "execution_count": null,
      "outputs": []
    },
    {
      "cell_type": "code",
      "source": [
        "df"
      ],
      "metadata": {
        "colab": {
          "base_uri": "https://localhost:8080/",
          "height": 423
        },
        "id": "HSVF5YLirCVZ",
        "outputId": "b24aa3a3-3fcd-416f-f4f7-79cd438e548d"
      },
      "execution_count": null,
      "outputs": [
        {
          "output_type": "execute_result",
          "data": {
            "text/plain": [
              "                                                title  \\\n",
              "0   Water should be an issue of cooperation, coord...   \n",
              "1   PM Modi 'really going out of his way' to work ...   \n",
              "2   Altered image of India's Modi with 'shaved hea...   \n",
              "3   Modi Takes Steps to Allow Yale, Oxford to Open...   \n",
              "4   Budget Analysis: Strong political undertone ex...   \n",
              "..                                                ...   \n",
              "92  India's PM Modi says he's keen to boost ties w...   \n",
              "93  Remarks by President Biden and Prime Minister ...   \n",
              "94  Modi's Personality Cult Has Replaced India's D...   \n",
              "95  Why Women Support Indian Prime Minister Narend...   \n",
              "96  Indian PM Modi tells Russia's Putin now 'is no...   \n",
              "\n",
              "                                                 link  \\\n",
              "0   https://news.google.com/__i/rss/rd/articles/CB...   \n",
              "1   https://news.google.com/__i/rss/rd/articles/CB...   \n",
              "2   https://news.google.com/__i/rss/rd/articles/CB...   \n",
              "3   https://news.google.com/__i/rss/rd/articles/CB...   \n",
              "4   https://news.google.com/__i/rss/rd/articles/CB...   \n",
              "..                                                ...   \n",
              "92  https://news.google.com/__i/rss/rd/articles/CB...   \n",
              "93  https://news.google.com/__i/rss/rd/articles/CB...   \n",
              "94  https://news.google.com/__i/rss/rd/articles/CB...   \n",
              "95  https://news.google.com/__i/rss/rd/articles/CB...   \n",
              "96  https://news.google.com/__i/rss/rd/articles/CB...   \n",
              "\n",
              "                        published  \n",
              "0   Thu, 05 Jan 2023 16:37:00 GMT  \n",
              "1   Fri, 06 Jan 2023 06:54:00 GMT  \n",
              "2   Sat, 07 Jan 2023 04:04:00 GMT  \n",
              "3   Thu, 05 Jan 2023 13:58:14 GMT  \n",
              "4   Sat, 07 Jan 2023 17:06:02 GMT  \n",
              "..                            ...  \n",
              "92  Thu, 08 Sep 2022 07:00:00 GMT  \n",
              "93  Tue, 24 May 2022 07:00:00 GMT  \n",
              "94  Fri, 04 Nov 2022 07:00:00 GMT  \n",
              "95  Fri, 19 Aug 2022 07:00:00 GMT  \n",
              "96  Fri, 16 Sep 2022 07:00:00 GMT  \n",
              "\n",
              "[97 rows x 3 columns]"
            ],
            "text/html": [
              "\n",
              "  <div id=\"df-be4af957-b094-471c-91d9-b04aa696ebfc\">\n",
              "    <div class=\"colab-df-container\">\n",
              "      <div>\n",
              "<style scoped>\n",
              "    .dataframe tbody tr th:only-of-type {\n",
              "        vertical-align: middle;\n",
              "    }\n",
              "\n",
              "    .dataframe tbody tr th {\n",
              "        vertical-align: top;\n",
              "    }\n",
              "\n",
              "    .dataframe thead th {\n",
              "        text-align: right;\n",
              "    }\n",
              "</style>\n",
              "<table border=\"1\" class=\"dataframe\">\n",
              "  <thead>\n",
              "    <tr style=\"text-align: right;\">\n",
              "      <th></th>\n",
              "      <th>title</th>\n",
              "      <th>link</th>\n",
              "      <th>published</th>\n",
              "    </tr>\n",
              "  </thead>\n",
              "  <tbody>\n",
              "    <tr>\n",
              "      <th>0</th>\n",
              "      <td>Water should be an issue of cooperation, coord...</td>\n",
              "      <td>https://news.google.com/__i/rss/rd/articles/CB...</td>\n",
              "      <td>Thu, 05 Jan 2023 16:37:00 GMT</td>\n",
              "    </tr>\n",
              "    <tr>\n",
              "      <th>1</th>\n",
              "      <td>PM Modi 'really going out of his way' to work ...</td>\n",
              "      <td>https://news.google.com/__i/rss/rd/articles/CB...</td>\n",
              "      <td>Fri, 06 Jan 2023 06:54:00 GMT</td>\n",
              "    </tr>\n",
              "    <tr>\n",
              "      <th>2</th>\n",
              "      <td>Altered image of India's Modi with 'shaved hea...</td>\n",
              "      <td>https://news.google.com/__i/rss/rd/articles/CB...</td>\n",
              "      <td>Sat, 07 Jan 2023 04:04:00 GMT</td>\n",
              "    </tr>\n",
              "    <tr>\n",
              "      <th>3</th>\n",
              "      <td>Modi Takes Steps to Allow Yale, Oxford to Open...</td>\n",
              "      <td>https://news.google.com/__i/rss/rd/articles/CB...</td>\n",
              "      <td>Thu, 05 Jan 2023 13:58:14 GMT</td>\n",
              "    </tr>\n",
              "    <tr>\n",
              "      <th>4</th>\n",
              "      <td>Budget Analysis: Strong political undertone ex...</td>\n",
              "      <td>https://news.google.com/__i/rss/rd/articles/CB...</td>\n",
              "      <td>Sat, 07 Jan 2023 17:06:02 GMT</td>\n",
              "    </tr>\n",
              "    <tr>\n",
              "      <th>...</th>\n",
              "      <td>...</td>\n",
              "      <td>...</td>\n",
              "      <td>...</td>\n",
              "    </tr>\n",
              "    <tr>\n",
              "      <th>92</th>\n",
              "      <td>India's PM Modi says he's keen to boost ties w...</td>\n",
              "      <td>https://news.google.com/__i/rss/rd/articles/CB...</td>\n",
              "      <td>Thu, 08 Sep 2022 07:00:00 GMT</td>\n",
              "    </tr>\n",
              "    <tr>\n",
              "      <th>93</th>\n",
              "      <td>Remarks by President Biden and Prime Minister ...</td>\n",
              "      <td>https://news.google.com/__i/rss/rd/articles/CB...</td>\n",
              "      <td>Tue, 24 May 2022 07:00:00 GMT</td>\n",
              "    </tr>\n",
              "    <tr>\n",
              "      <th>94</th>\n",
              "      <td>Modi's Personality Cult Has Replaced India's D...</td>\n",
              "      <td>https://news.google.com/__i/rss/rd/articles/CB...</td>\n",
              "      <td>Fri, 04 Nov 2022 07:00:00 GMT</td>\n",
              "    </tr>\n",
              "    <tr>\n",
              "      <th>95</th>\n",
              "      <td>Why Women Support Indian Prime Minister Narend...</td>\n",
              "      <td>https://news.google.com/__i/rss/rd/articles/CB...</td>\n",
              "      <td>Fri, 19 Aug 2022 07:00:00 GMT</td>\n",
              "    </tr>\n",
              "    <tr>\n",
              "      <th>96</th>\n",
              "      <td>Indian PM Modi tells Russia's Putin now 'is no...</td>\n",
              "      <td>https://news.google.com/__i/rss/rd/articles/CB...</td>\n",
              "      <td>Fri, 16 Sep 2022 07:00:00 GMT</td>\n",
              "    </tr>\n",
              "  </tbody>\n",
              "</table>\n",
              "<p>97 rows × 3 columns</p>\n",
              "</div>\n",
              "      <button class=\"colab-df-convert\" onclick=\"convertToInteractive('df-be4af957-b094-471c-91d9-b04aa696ebfc')\"\n",
              "              title=\"Convert this dataframe to an interactive table.\"\n",
              "              style=\"display:none;\">\n",
              "        \n",
              "  <svg xmlns=\"http://www.w3.org/2000/svg\" height=\"24px\"viewBox=\"0 0 24 24\"\n",
              "       width=\"24px\">\n",
              "    <path d=\"M0 0h24v24H0V0z\" fill=\"none\"/>\n",
              "    <path d=\"M18.56 5.44l.94 2.06.94-2.06 2.06-.94-2.06-.94-.94-2.06-.94 2.06-2.06.94zm-11 1L8.5 8.5l.94-2.06 2.06-.94-2.06-.94L8.5 2.5l-.94 2.06-2.06.94zm10 10l.94 2.06.94-2.06 2.06-.94-2.06-.94-.94-2.06-.94 2.06-2.06.94z\"/><path d=\"M17.41 7.96l-1.37-1.37c-.4-.4-.92-.59-1.43-.59-.52 0-1.04.2-1.43.59L10.3 9.45l-7.72 7.72c-.78.78-.78 2.05 0 2.83L4 21.41c.39.39.9.59 1.41.59.51 0 1.02-.2 1.41-.59l7.78-7.78 2.81-2.81c.8-.78.8-2.07 0-2.86zM5.41 20L4 18.59l7.72-7.72 1.47 1.35L5.41 20z\"/>\n",
              "  </svg>\n",
              "      </button>\n",
              "      \n",
              "  <style>\n",
              "    .colab-df-container {\n",
              "      display:flex;\n",
              "      flex-wrap:wrap;\n",
              "      gap: 12px;\n",
              "    }\n",
              "\n",
              "    .colab-df-convert {\n",
              "      background-color: #E8F0FE;\n",
              "      border: none;\n",
              "      border-radius: 50%;\n",
              "      cursor: pointer;\n",
              "      display: none;\n",
              "      fill: #1967D2;\n",
              "      height: 32px;\n",
              "      padding: 0 0 0 0;\n",
              "      width: 32px;\n",
              "    }\n",
              "\n",
              "    .colab-df-convert:hover {\n",
              "      background-color: #E2EBFA;\n",
              "      box-shadow: 0px 1px 2px rgba(60, 64, 67, 0.3), 0px 1px 3px 1px rgba(60, 64, 67, 0.15);\n",
              "      fill: #174EA6;\n",
              "    }\n",
              "\n",
              "    [theme=dark] .colab-df-convert {\n",
              "      background-color: #3B4455;\n",
              "      fill: #D2E3FC;\n",
              "    }\n",
              "\n",
              "    [theme=dark] .colab-df-convert:hover {\n",
              "      background-color: #434B5C;\n",
              "      box-shadow: 0px 1px 3px 1px rgba(0, 0, 0, 0.15);\n",
              "      filter: drop-shadow(0px 1px 2px rgba(0, 0, 0, 0.3));\n",
              "      fill: #FFFFFF;\n",
              "    }\n",
              "  </style>\n",
              "\n",
              "      <script>\n",
              "        const buttonEl =\n",
              "          document.querySelector('#df-be4af957-b094-471c-91d9-b04aa696ebfc button.colab-df-convert');\n",
              "        buttonEl.style.display =\n",
              "          google.colab.kernel.accessAllowed ? 'block' : 'none';\n",
              "\n",
              "        async function convertToInteractive(key) {\n",
              "          const element = document.querySelector('#df-be4af957-b094-471c-91d9-b04aa696ebfc');\n",
              "          const dataTable =\n",
              "            await google.colab.kernel.invokeFunction('convertToInteractive',\n",
              "                                                     [key], {});\n",
              "          if (!dataTable) return;\n",
              "\n",
              "          const docLinkHtml = 'Like what you see? Visit the ' +\n",
              "            '<a target=\"_blank\" href=https://colab.research.google.com/notebooks/data_table.ipynb>data table notebook</a>'\n",
              "            + ' to learn more about interactive tables.';\n",
              "          element.innerHTML = '';\n",
              "          dataTable['output_type'] = 'display_data';\n",
              "          await google.colab.output.renderOutput(dataTable, element);\n",
              "          const docLink = document.createElement('div');\n",
              "          docLink.innerHTML = docLinkHtml;\n",
              "          element.appendChild(docLink);\n",
              "        }\n",
              "      </script>\n",
              "    </div>\n",
              "  </div>\n",
              "  "
            ]
          },
          "metadata": {},
          "execution_count": 49
        }
      ]
    },
    {
      "cell_type": "code",
      "source": [
        "from textblob import TextBlob"
      ],
      "metadata": {
        "id": "rfUkBJtprDAp"
      },
      "execution_count": null,
      "outputs": []
    },
    {
      "cell_type": "code",
      "source": [
        "# Function to predict the sentiment of the title\n",
        "def sentiment(text):\n",
        "  blob = TextBlob(text)\n",
        "  return blob.sentiment.polarity"
      ],
      "metadata": {
        "id": "OjdLK4kFrTGw"
      },
      "execution_count": null,
      "outputs": []
    },
    {
      "cell_type": "code",
      "source": [
        "import numpy as np\n",
        "df['Sentiment_class'] = np.where(df['sentiment']<0,\"negative\",np.where(df['sentiment']>0,'positive','neutral')) "
      ],
      "metadata": {
        "id": "8hX3zm90sDg3"
      },
      "execution_count": null,
      "outputs": []
    },
    {
      "cell_type": "code",
      "source": [
        "#df.to_excel('out_file.xlsx')\n",
        "#from google.colab import files\n",
        "#files.download('out_file.xlsx')"
      ],
      "metadata": {
        "id": "vXXN6R11vfwQ"
      },
      "execution_count": null,
      "outputs": []
    },
    {
      "cell_type": "code",
      "source": [
        "import requests\n",
        "from bs4 import BeautifulSoup\n",
        "import numpy as np\n",
        "import pandas as pd\n",
        "import time"
      ],
      "metadata": {
        "id": "My1sgmQawFq7"
      },
      "execution_count": null,
      "outputs": []
    },
    {
      "cell_type": "code",
      "source": [
        "\n",
        "import re\n",
        "# as per recommendation from @freylis, compile once only\n",
        "\n",
        "def cleanhtml(raw_html):\n",
        "  return re.sub(r'[^\\w\\s\\n]', '', raw_html)\n"
      ],
      "metadata": {
        "id": "IHTODk0Ffh0O"
      },
      "execution_count": null,
      "outputs": []
    },
    {
      "cell_type": "code",
      "source": [
        "\"\"\"\n",
        "import re\n",
        "# as per recommendation from @freylis, compile once only\n",
        "CLEANR = re.compile('<.*?>')\n",
        "def cleanhtml(body):\n",
        "  body= body.replace('n', ' ')\n",
        "  body= body.replace('t', ' ')\n",
        "  body= body.replace('r', ' ')\n",
        "  body= body.replace('xa0', ' ')\n",
        "  body= re.sub(r'[^ws]', '', body)\n",
        "  return body\n",
        "  \"\"\""
      ],
      "metadata": {
        "id": "cP10xPvLlsQI"
      },
      "execution_count": null,
      "outputs": []
    },
    {
      "cell_type": "code",
      "source": [
        "df.shape[0]"
      ],
      "metadata": {
        "colab": {
          "base_uri": "https://localhost:8080/"
        },
        "id": "pVG_6wYhVkxa",
        "outputId": "409445bd-b906-4998-f8fc-a7ff1678dabd"
      },
      "execution_count": null,
      "outputs": [
        {
          "output_type": "execute_result",
          "data": {
            "text/plain": [
              "96"
            ]
          },
          "metadata": {},
          "execution_count": 25
        }
      ]
    },
    {
      "cell_type": "code",
      "source": [
        "a = []\n",
        "#Genralising what we have done above\n",
        "for i in range(df.shape[0]):\n",
        "  url = df[\"link\"][i]\n",
        "  r1 = requests.get(url)\n",
        "  r1.status_code\n",
        "\n",
        "  # We'll save in coverpage the cover page content\n",
        "  coverpage = r1.content\n",
        "\n",
        "  # Soup creation\n",
        "  soup1 = BeautifulSoup(coverpage, 'html5lib')\n",
        "\n",
        "  # News identification\n",
        "  coverpage_news = soup1.find_all('p')\n",
        "\n",
        "  #converting bs4.element.ResultSet to string so that it can be processeable\n",
        "  coverpage_news = str(coverpage_news)\n",
        "  \n",
        "  #cleaning the html tags \n",
        "  coverpage = cleanhtml(coverpage_news)\n",
        "  a.append(result)\n",
        "  \n",
        "\n",
        "  #determing the sentiment of article\n",
        "  # classifier1 = pipeline(\"summarization\")\n",
        "  # classifier2 = pipeline(\"sentiment-analysis\")\n",
        "  # results = classifier1(coverpage)\n",
        "  # result = classifier2(results)\n",
        "  # print(result)\n",
        "\n",
        "  \n"
      ],
      "metadata": {
        "id": "0wbqEdjJkdn8"
      },
      "execution_count": null,
      "outputs": []
    },
    {
      "cell_type": "code",
      "source": [
        "df[\"amitesh_senti\"] = a"
      ],
      "metadata": {
        "id": "OzgVayBfkwiA"
      },
      "execution_count": null,
      "outputs": []
    },
    {
      "cell_type": "code",
      "source": [
        "import spacy\n",
        "\n",
        "nlp = spacy.load(\"en_core_web_sm\")"
      ],
      "metadata": {
        "id": "Hlc-Dh4eTsfu",
        "colab": {
          "base_uri": "https://localhost:8080/"
        },
        "outputId": "11e0bdf2-3c14-4627-bac1-04dfed7c0514"
      },
      "execution_count": null,
      "outputs": [
        {
          "output_type": "stream",
          "name": "stderr",
          "text": [
            "/usr/local/lib/python3.8/dist-packages/torch/cuda/__init__.py:497: UserWarning: Can't initialize NVML\n",
            "  warnings.warn(\"Can't initialize NVML\")\n"
          ]
        }
      ]
    },
    {
      "cell_type": "code",
      "source": [
        "name = \"Narendra Modi\""
      ],
      "metadata": {
        "id": "F13Sr0t1eP_r"
      },
      "execution_count": null,
      "outputs": []
    },
    {
      "cell_type": "code",
      "source": [
        "#Subh NER\n",
        "a = []\n",
        "#Genralising what we have done above\n",
        "for i in range(df.shape[0]):\n",
        "  news_list = []\n",
        "  url = df[\"link\"][i]\n",
        "  r1 = requests.get(url)\n",
        "  \n",
        "\n",
        "  # We'll save in coverpage the cover page content\n",
        "  coverpage = r1.content\n",
        "\n",
        "  # Soup creation\n",
        "  soup1 = BeautifulSoup(coverpage, 'html5lib')\n",
        "\n",
        "  # News identification using ner\n",
        "  coverpage_news = soup1.find_all('p')\n",
        "\n",
        "  #Using Named Entity Recognition\n",
        "  for c in coverpage_news:\n",
        "    c = str(c)\n",
        "    c = cleanhtml(c)\n",
        "    article = nlp (c)\n",
        "    for ent in article.ents:\n",
        "      if (ent.label_==\"PERSON\") & (ent.text == name): #| (ent.text in name.split(' ')\n",
        "        news_list.append(c)\n",
        "\n",
        "  #converting bs4.element.ResultSet to string so that it can be processeable\n",
        "  coverpage_news = str(news_list)\n",
        "  \n",
        "  #cleaning the html tags \n",
        "  coverpage = cleanhtml(coverpage_news)\n",
        "  result = sentiment(coverpage)\n",
        "  \n",
        "  a.append(result)"
      ],
      "metadata": {
        "id": "JJwhBLfOeq84"
      },
      "execution_count": null,
      "outputs": []
    },
    {
      "cell_type": "code",
      "source": [
        "#Amitesh NER\n",
        "\n",
        "import nltk\n",
        "from nltk.tokenize import word_tokenize\n",
        "from nltk.tag import pos_tag\n",
        "nltk.download('punkt')\n",
        "nltk.download('averaged_perceptron_tagger')\n",
        "Sentiment_list = []\n",
        "a = []\n",
        "#Genralising what we have done above\n",
        "for i in range(df.shape[0]):\n",
        "  news_list = []\n",
        "  url = df[\"link\"][i]\n",
        "  r1 = requests.get(url)\n",
        "  \n",
        "\n",
        "  # We'll save in coverpage the cover page content\n",
        "  coverpage = r1.content\n",
        "\n",
        "  # Soup creation\n",
        "  soup1 = BeautifulSoup(coverpage, 'html5lib')\n",
        "\n",
        "  # News identification using ner\n",
        "  coverpage_news = soup1.find_all('p')\n",
        "  coverpage = cleanhtml(coverpage_news)\n",
        "  #Using Named Entity Recognition\n",
        "  from nltk.tokenize import sent_tokenize\n",
        "  text = coverpage\n",
        "  lst = sent_tokenize(text)\n",
        "  for i in lst:\n",
        "    article = nlp(i)\n",
        "    for ent in article.ents:\n",
        "      if (ent.label_ == \"PERSON\" and ent.text == \"Narendra Modi\"):  #and ent.text == \"Anthony Albanese\"\n",
        "        a.append(i)\n",
        "\n",
        "  #converting bs4.element.ResultSet to string so that it can be processeable\n",
        "  \n",
        "  \n",
        "  #cleaning the html tags \n",
        "  \n",
        "  result = sentiment(coverpage)\n",
        "  \n",
        "  Sentiment_list.append(result)"
      ],
      "metadata": {
        "colab": {
          "base_uri": "https://localhost:8080/",
          "height": 506
        },
        "id": "cTE2ySA3b4R-",
        "outputId": "f3414b18-99f2-46e8-b261-59f09d13e73b"
      },
      "execution_count": null,
      "outputs": [
        {
          "output_type": "stream",
          "name": "stderr",
          "text": [
            "[nltk_data] Downloading package punkt to /root/nltk_data...\n",
            "[nltk_data]   Package punkt is already up-to-date!\n",
            "[nltk_data] Downloading package averaged_perceptron_tagger to\n",
            "[nltk_data]     /root/nltk_data...\n",
            "[nltk_data]   Package averaged_perceptron_tagger is already up-to-\n",
            "[nltk_data]       date!\n"
          ]
        },
        {
          "output_type": "error",
          "ename": "TypeError",
          "evalue": "ignored",
          "traceback": [
            "\u001b[0;31m---------------------------------------------------------------------------\u001b[0m",
            "\u001b[0;31mTypeError\u001b[0m                                 Traceback (most recent call last)",
            "\u001b[0;32m<ipython-input-33-7fef850ad5fc>\u001b[0m in \u001b[0;36m<module>\u001b[0;34m\u001b[0m\n\u001b[1;32m     23\u001b[0m   \u001b[0;31m# News identification using ner\u001b[0m\u001b[0;34m\u001b[0m\u001b[0;34m\u001b[0m\u001b[0;34m\u001b[0m\u001b[0m\n\u001b[1;32m     24\u001b[0m   \u001b[0mcoverpage_news\u001b[0m \u001b[0;34m=\u001b[0m \u001b[0msoup1\u001b[0m\u001b[0;34m.\u001b[0m\u001b[0mfind_all\u001b[0m\u001b[0;34m(\u001b[0m\u001b[0;34m'p'\u001b[0m\u001b[0;34m)\u001b[0m\u001b[0;34m\u001b[0m\u001b[0;34m\u001b[0m\u001b[0m\n\u001b[0;32m---> 25\u001b[0;31m   \u001b[0mcoverpage\u001b[0m \u001b[0;34m=\u001b[0m \u001b[0mcleanhtml\u001b[0m\u001b[0;34m(\u001b[0m\u001b[0mcoverpage_news\u001b[0m\u001b[0;34m)\u001b[0m\u001b[0;34m\u001b[0m\u001b[0;34m\u001b[0m\u001b[0m\n\u001b[0m\u001b[1;32m     26\u001b[0m   \u001b[0;31m#Using Named Entity Recognition\u001b[0m\u001b[0;34m\u001b[0m\u001b[0;34m\u001b[0m\u001b[0;34m\u001b[0m\u001b[0m\n\u001b[1;32m     27\u001b[0m   \u001b[0;32mfrom\u001b[0m \u001b[0mnltk\u001b[0m\u001b[0;34m.\u001b[0m\u001b[0mtokenize\u001b[0m \u001b[0;32mimport\u001b[0m \u001b[0msent_tokenize\u001b[0m\u001b[0;34m\u001b[0m\u001b[0;34m\u001b[0m\u001b[0m\n",
            "\u001b[0;32m<ipython-input-15-daf5064b970e>\u001b[0m in \u001b[0;36mcleanhtml\u001b[0;34m(raw_html)\u001b[0m\n\u001b[1;32m      3\u001b[0m \u001b[0;34m\u001b[0m\u001b[0m\n\u001b[1;32m      4\u001b[0m \u001b[0;32mdef\u001b[0m \u001b[0mcleanhtml\u001b[0m\u001b[0;34m(\u001b[0m\u001b[0mraw_html\u001b[0m\u001b[0;34m)\u001b[0m\u001b[0;34m:\u001b[0m\u001b[0;34m\u001b[0m\u001b[0;34m\u001b[0m\u001b[0m\n\u001b[0;32m----> 5\u001b[0;31m   \u001b[0;32mreturn\u001b[0m \u001b[0mre\u001b[0m\u001b[0;34m.\u001b[0m\u001b[0msub\u001b[0m\u001b[0;34m(\u001b[0m\u001b[0;34mr'[^\\w\\s]'\u001b[0m\u001b[0;34m,\u001b[0m \u001b[0;34m''\u001b[0m\u001b[0;34m,\u001b[0m \u001b[0mraw_html\u001b[0m\u001b[0;34m)\u001b[0m\u001b[0;34m\u001b[0m\u001b[0;34m\u001b[0m\u001b[0m\n\u001b[0m",
            "\u001b[0;32m/usr/lib/python3.8/re.py\u001b[0m in \u001b[0;36msub\u001b[0;34m(pattern, repl, string, count, flags)\u001b[0m\n\u001b[1;32m    208\u001b[0m     \u001b[0ma\u001b[0m \u001b[0mcallable\u001b[0m\u001b[0;34m,\u001b[0m \u001b[0mit\u001b[0m\u001b[0;31m'\u001b[0m\u001b[0ms\u001b[0m \u001b[0mpassed\u001b[0m \u001b[0mthe\u001b[0m \u001b[0mMatch\u001b[0m \u001b[0mobject\u001b[0m \u001b[0;32mand\u001b[0m \u001b[0mmust\u001b[0m \u001b[0;32mreturn\u001b[0m\u001b[0;34m\u001b[0m\u001b[0;34m\u001b[0m\u001b[0m\n\u001b[1;32m    209\u001b[0m     a replacement string to be used.\"\"\"\n\u001b[0;32m--> 210\u001b[0;31m     \u001b[0;32mreturn\u001b[0m \u001b[0m_compile\u001b[0m\u001b[0;34m(\u001b[0m\u001b[0mpattern\u001b[0m\u001b[0;34m,\u001b[0m \u001b[0mflags\u001b[0m\u001b[0;34m)\u001b[0m\u001b[0;34m.\u001b[0m\u001b[0msub\u001b[0m\u001b[0;34m(\u001b[0m\u001b[0mrepl\u001b[0m\u001b[0;34m,\u001b[0m \u001b[0mstring\u001b[0m\u001b[0;34m,\u001b[0m \u001b[0mcount\u001b[0m\u001b[0;34m)\u001b[0m\u001b[0;34m\u001b[0m\u001b[0;34m\u001b[0m\u001b[0m\n\u001b[0m\u001b[1;32m    211\u001b[0m \u001b[0;34m\u001b[0m\u001b[0m\n\u001b[1;32m    212\u001b[0m \u001b[0;32mdef\u001b[0m \u001b[0msubn\u001b[0m\u001b[0;34m(\u001b[0m\u001b[0mpattern\u001b[0m\u001b[0;34m,\u001b[0m \u001b[0mrepl\u001b[0m\u001b[0;34m,\u001b[0m \u001b[0mstring\u001b[0m\u001b[0;34m,\u001b[0m \u001b[0mcount\u001b[0m\u001b[0;34m=\u001b[0m\u001b[0;36m0\u001b[0m\u001b[0;34m,\u001b[0m \u001b[0mflags\u001b[0m\u001b[0;34m=\u001b[0m\u001b[0;36m0\u001b[0m\u001b[0;34m)\u001b[0m\u001b[0;34m:\u001b[0m\u001b[0;34m\u001b[0m\u001b[0;34m\u001b[0m\u001b[0m\n",
            "\u001b[0;31mTypeError\u001b[0m: expected string or bytes-like object"
          ]
        }
      ]
    },
    {
      "cell_type": "code",
      "source": [
        "url = df[\"link\"][0]\n",
        "r1 = requests.get(url)\n",
        "coverpage = r1.content  # all the content of coverpage\n",
        "soup1 = BeautifulSoup(coverpage,'html5lib')   #html form\n",
        "coverpage_news = soup1.find_all('p')  #html form of paragraphs\n",
        "for news in coverpage_news:\n",
        "  # c = str(news)\n",
        "  # c = cleanhtml(c)\n",
        "  article = nlp(str(news))\n",
        "  print(article)"
      ],
      "metadata": {
        "colab": {
          "base_uri": "https://localhost:8080/"
        },
        "id": "di7ceuuBmfaD",
        "outputId": "4df3e0d5-4658-469b-e4e5-6c3c888c715a"
      },
      "execution_count": null,
      "outputs": [
        {
          "output_type": "stream",
          "name": "stdout",
          "text": [
            "<p class=\"hdrdate hdr-bdr-btm hdr-fx-width\" id=\"todayDate\"></p>\n",
            "<p class=\"hdrdate hdr-bdr-btm hdr-fx-width follow\">Follow Us</p>\n",
            "<p>\n",
            "                    <button class=\"btn epaper-btn btn-bg\" onclick=\"window.open('https://epaper.tribuneindia.com')\">Epaper</button>\n",
            "                    \n",
            "                </p>\n",
            "<p class=\"hdrdate hdr-bdr-btm hdr-txt-right wdh-40 hdr-login\" style=\"display:none\">Login   /  Register</p>\n",
            "<p class=\"hdrdate\" id=\"weather\" style=\"display:inline;border-bottom:none\"> </p>\n",
            "<p>\n",
            "                    A\n",
            "                    <span>-</span>\n",
            "                </p>\n",
            "<p>\n",
            "                    A\n",
            "                    <span>+</span>\n",
            "                </p>\n",
            "<p>\n",
            "                            <strong>Updated At:</strong>\n",
            "\n",
            "                            <span>\n",
            "                                <i aria-hidden=\"true\" class=\"fa fa-calendar\"></i>Jan 05, 2023\n",
            "                            </span>\n",
            "                            <!--dynamic time-->\n",
            "                            <span class=\"time\">10:07 PM (IST)</span>\n",
            "                        </p>\n",
            "<p> A video grab of PM Narendra Modi addressing the conference.</p>\n",
            "<p class=\"p-ignore\" id=\"author-name\" style=\"display: block;margin-bottom: 1px;\">\n",
            "                    <a href=\"/columnist/tribune-news-service-91\" id=\"authorName\" target=\"_blank\"><b>Tribune News Service</b></a>\n",
            "\n",
            "</p>\n",
            "<p class=\"p-ignore\">\n",
            "    <b>\n",
            "        \n",
            "    </b>\n",
            "</p>\n",
            "<p><strong>Aditi Tandon</strong></p>\n",
            "<p><strong>New Delhi, January 5</strong></p>\n",
            "<p>A day after Punjab and Haryana failed to reach an agreement on the construction of the Sutlej Yamuna Link canal, Prime Minister Narendra Modi on Thursday said water should be an issue of cooperation and coordination between the states.</p>\n",
            "<p>Addressing the first national conference of state water ministers convened by the Centre to discuss and prepare for the looming water crisis, the prime minister urged governments to ensure people’s participation in the water conservation movement along the lines of Swachh Bharat campaign.</p>\n",
            "<p>“Public ownership of a campaign is the true sign of its success…it raises people’s consciousness and appreciation about the scale of the effort, the monies involved, the nuances at hand,” said the prime minister, asking states to innovate better for water use efficiency and rainwater-harvesting.</p>\n",
            "<p>He said 70 lakh hectares of land in the country had been brought under micro irrigation saving large quantum of water, adding, ‘Per drop more crop’ programme is also gaining momentum.</p>\n",
            "<p>The PM said although rainwater harvest campaign had created the much-needed buzz “a lot remained to be done to intensify if for desired outcomes”.</p>\n",
            "<p>The PM also urged gram panchayats to prepare an action plan for the next five years where a roadmap ranging from water supply to cleanliness and waste management should be considered.</p>\n",
            "<p>He said panchayats should take the leadership of Jal Jeevan Mission which aims to provide clean tap drinking water to all rural households.</p>\n",
            "<p>The two-day Water Vision 2047 conference being held in Bhopal from Thursday is the brainchild of Jal Shakti Minister Gajendra Singh Shekhawat, who said India must prepare ahead for the estimated water stress situation by 2047.</p>\n",
            "<p>\"Water requirements assessed by 2047 will exceed the total quantum of water available with us. The harvestable component of water as of date is somewhere around 1,180 billion cubic metres (bcm) and our requirement is 880 bcm. But by 2047 the demand is going to surpass the total harvestable component. So it is going to be critical for which we must prepare ahead,\" Shekhawat told The Tribune.</p>\n",
            "<p>The minister said the two-day national conference (Water Vision 2047) is seeing the participation of all states.</p>\n",
            "<p>He said 50 years ago, the average annual per capita availability of water was around 5,000 cubic metre but this has reduced on account of population growing 3.5 times since then. \"Per capita water availability by 2047 would be somewhere around 1,300 cubic metre,\" Shekhawat said, adding that the conference would have every state present its vision and solutions to deal with the potential water stress situation we are estimating in the future.</p>\n",
            "<p>The minister said the estimated water availability in 2047 would not be even.</p>\n",
            "<p>\"Given geo-spatial variations and geographical locations, some states will be water scarce and others will be water abundant. Solutions must be worked out in advance to deal with the challenge,\" he said.</p>\n",
            "<p>The average annual per capita water availability in 2021 was 1,486 cubic metre. The annual per capita water availability of less than 1,700 cubic metres is considered a water-stressed condition and below 1,000 cubic metres a water-scarcity condition.</p>\n",
            "<p>Shekhawat said major solutions centred on water use efficiency in agriculture; recycling and reuse of sewage; ground water recharge activities; rainwater harvesting; and inculcation of water sensitivity in the minds of the people.</p>\n",
            "<p>The conference comes amid ongoing water disputes between states, including the decades-old SYL dispute, where the Centre’s efforts to broker peace between Punjab and Haryana have failed.</p>\n",
            "<p>The meeting of Punjab CM Bhagwant Mann and his Haryana counterpart ML Khattar called by Shekhawat to find an amicable solution proved inconclusive on Wednesday with Punjab saying it can’t build the canal as it has no water to spare.</p>\n",
            "<p>The matter will be reported to the Supreme Court which has asked the Centre to find a mediated settlement between the two states.</p>\n",
            "<p>The next date of hearing in the SYL case is January 19.</p>\n",
            "<p>\n",
            "                                <a class=\"tag-text\" href=\"/news/tag/narendra-modi\">#narendra modi</a>\n",
            "                                <a class=\"tag-text\" href=\"/news/tag/sutlej-yamuna-link-canal-syl\">#Sutlej Yamuna Link canal SYL</a>\n",
            "                        </p>\n",
            "<p class=\"related-news-heading\">Also Read</p>\n",
            "<p class=\"card-text font-15\"><i aria-hidden=\"true\" class=\"far fa-arrow-alt-circle-right topstory-circle-right\"></i></p>\n",
            "<p class=\"card-text font-15\"><a href=\"https://www.tribuneindia.com/news/haryana/punjab-refusing-to-accept-sc-decision-says-haryana-cm-khattar-467483\" target=\"_blank\" title=\"Punjab refusing to accept Supreme Court decision, says Haryana CM Khattar\">Punjab refusing to accept Supreme Court decision, says Haryana CM Khattar</a></p>\n",
            "<p class=\"card-text font-15\"><i aria-hidden=\"true\" class=\"far fa-arrow-alt-circle-right topstory-circle-right\"></i></p>\n",
            "<p class=\"card-text font-15\"><a href=\"https://www.tribuneindia.com/news/punjab/no-spare-water-says-mann-build-canal-insists-khattar-467416\" target=\"_blank\" title=\"Punjab has no spare water, says Bhagwant Mann; build canal, insists Haryana CM Khattar\">Punjab has no spare water, says Bhagwant Mann; build canal, insists Haryana CM Khattar</a></p>\n",
            "<p>\n",
            "                    A\n",
            "                    <span>-</span>\n",
            "                </p>\n",
            "<p>\n",
            "                    A\n",
            "                    <span>+</span>\n",
            "                </p>\n",
            "<p class=\"TDTY-Subs\">\n",
            "            SUBSCRIBE TO OUR NEWSLETTER\n",
            "        </p>\n",
            "<p class=\"sub-headline\">Chetan Singh Jouramajra has been given charge of all departm...</p>\n",
            "<p class=\"sub-headline\">All five-time MLAs are expected to take oath as ministers, s...</p>\n",
            "<p class=\"sub-headline\">In September, an audio clip went viral, wherein the minister...</p>\n",
            "<p class=\"sub-headline\">The police sought his remand for three days, saying he was r...</p>\n",
            "<p class=\"sub-headline\">Caucasian Shepherd can reach an average height of about 30 i...</p>\n",
            "<p class=\"View-stories\"><a href=\"/news/city/amritsar\">View All</a></p>\n",
            "<p class=\"sub-headline\"></p>\n",
            "<p class=\"sub-headline\"></p>\n",
            "<p class=\"sub-headline\"></p>\n",
            "<p class=\"sub-headline\"></p>\n",
            "<p class=\"sub-headline\"></p>\n",
            "<p class=\"sub-headline\"></p>\n",
            "<p class=\"sub-headline\"></p>\n",
            "<p class=\"sub-headline\"></p>\n",
            "<p class=\"sub-headline\"></p>\n",
            "<p class=\"sub-headline\"></p>\n",
            "<p class=\"sub-headline\"></p>\n",
            "<p class=\"sub-headline\"></p>\n",
            "<p class=\"sub-headline\"></p>\n",
            "<p class=\"sub-headline\"></p>\n",
            "<p class=\"sub-headline\"></p>\n",
            "<p class=\"sub-headline\"></p>\n",
            "<p class=\"sub-headline\"></p>\n",
            "<p class=\"sub-headline\"></p>\n",
            "<p class=\"sub-headline\"></p>\n",
            "<p class=\"sub-headline\"></p>\n",
            "<p class=\"sub-headline\"></p>\n",
            "<p class=\"sub-headline\"></p>\n",
            "<p class=\"sub-headline\"></p>\n",
            "<p class=\"sub-headline\"></p>\n",
            "<p class=\"sub-headline\"></p>\n",
            "<p class=\"sub-headline\"></p>\n",
            "<p class=\"sub-headline\"></p>\n",
            "<p class=\"sub-headline\"></p>\n",
            "<p class=\"sub-headline\"></p>\n",
            "<p class=\"sub-headline\"></p>\n",
            "<p class=\"sub-headline\"></p>\n",
            "<p class=\"sub-headline\"></p>\n",
            "<p class=\"sub-headline\"></p>\n",
            "<p class=\"sub-headline\"></p>\n",
            "<p class=\"para-1\">The Tribune, now published from Chandigarh, started publication on February 2, 1881, in Lahore (now in Pakistan). It was started by Sardar Dyal Singh Majithia, a public-spirited philanthropist, and is run by a trust comprising four eminent persons as trustees.</p>\n",
            "<p class=\"para-1\">The Tribune, the largest selling English daily in North India, publishes news and views without any bias or prejudice of any kind. Restraint and moderation, rather than agitational language and partisanship, are the hallmarks of the paper. It is an independent newspaper in the real sense of the term.</p>\n",
            "<p>The Tribune has two sister publications, Punjabi Tribune (in Punjabi) and Dainik Tribune (in Hindi).</p>\n",
            "<p>\n",
            "                            <a href=\"/news/features/remembering-our-founder-%E2%80%94-sardar-dyal-singh-majithia-308855\" style=\"color: #fff;\" target=\"_blank\">Remembering Sardar Dyal Singh Majithia</a>\n",
            "                        </p>\n",
            "<p>\n",
            "                            Designed and Developed by: <a href=\"http://www.grazitti.com\" target=\"_blank\">Grazitti Interactive</a>\n",
            "                        </p>\n"
          ]
        }
      ]
    },
    {
      "cell_type": "code",
      "source": [
        "coverpage"
      ],
      "metadata": {
        "colab": {
          "base_uri": "https://localhost:8080/",
          "height": 1000
        },
        "id": "uPqoGSbOmhkJ",
        "outputId": "c4681fc3-2716-41f9-9b57-71f5bb9ba4dd"
      },
      "execution_count": null,
      "outputs": [
        {
          "output_type": "execute_result",
          "data": {
            "text/plain": [
              "'p classhdrdate hdrbdrbtm hdrfxwidth idtodayDatep p classhdrdate hdrbdrbtm hdrfxwidth followFollow Usp p\\n                    button classbtn epaperbtn btnbg onclickwindowopenhttpsepapertribuneindiacomEpaperbutton\\n                    \\n                p p classhdrdate hdrbdrbtm hdrtxtright wdh40 hdrlogin styledisplaynoneLogin \\xa0\\xa0\\xa0\\xa0Registerp p classhdrdate idweather styledisplayinlineborderbottomnone p p\\n                    A\\n                    spanspan\\n                p p\\n                    A\\n                    spanspan\\n                p p\\n                            strongUpdated Atstrong\\n\\n                            span\\n                                i ariahiddentrue classfa facalendariJan 05 2023\\n                            span\\n                            dynamic time\\n                            span classtime1007 PM ISTspan\\n                        p p A video grab of PM Narendra Modi addressing the conferencep p classpignore idauthorname styledisplay blockmarginbottom 1px\\n                    a hrefcolumnisttribunenewsservice91 idauthorName target_blankbTribune News Serviceba\\n\\np p classpignore\\n    b\\n        \\n    b\\np pstrongAditi Tandonstrongp pstrongNew Delhi January 5strongp pA day after Punjab and Haryana failed to reach an agreement on the construction of the Sutlej Yamuna Link canal Prime Minister Narendra Modi on Thursday said water should be an issue of cooperation and coordination between the statesp pAddressing the first national conference of state water ministers convened by the Centre to discuss and prepare for the looming water crisis the prime minister urged governments to ensure peoples participation in the water conservation movement along the lines of Swachh Bharat campaignp pPublic ownership of a campaign is the true sign of its successit raises peoples consciousness and appreciation about the scale of the effort the monies involved the nuances at hand said the prime minister asking states to innovate better for water use efficiency and rainwaterharvestingp pHe said 70 lakh hectares of land in the country had been brought under micro irrigation saving large quantum of water adding Per drop more crop programme is also gaining momentump pThe PM said although rainwater harvest campaign had created the muchneeded buzz a lot remained to be done to intensify if for desired outcomesp pThe PM also urged gram panchayats to prepare an action plan for the next five years where a roadmap ranging from water supply to cleanliness and waste management should be consideredp pHe said panchayats should take the leadership of Jal Jeevan Mission which aims to provide clean tap drinking water to all rural householdsp pThe twoday Water Vision 2047 conference being held in Bhopal from Thursday is the brainchild of Jal Shakti Minister Gajendra Singh Shekhawat who said India must prepare ahead for the estimated water stress situation by 2047p pWater requirements assessed by 2047 will exceed the total quantum of water available with us The harvestable component of water as of date is somewhere around 1180 billion cubic metres bcm and our requirement is 880 bcm But by 2047 the demand is going to surpass the total harvestable component So it is going to be critical for which we must prepare ahead Shekhawat told The Tribunep pThe minister said the twoday national conference Water Vision 2047 is seeing the participation of all statesp pHe said 50 years ago the average annual per capita availability of water was around 5000 cubic metre but this has reduced on account of population growing 35 times since then Per capita water availability by 2047 would be somewhere around 1300 cubic metre Shekhawat said adding that the conference would have every state present its vision and solutions to deal with the potential water stress situation we are estimating in the futurep pThe minister said the estimated water availability in 2047 would not be evenp pGiven geospatial variations and geographical locations some states will be water scarce and others will be water abundant Solutions must be worked out in advance to deal with the challenge he saidp pThe average annual per capita water availability in 2021 was 1486 cubic metre The annual per capita water availability of less than 1700 cubic metres is considered a waterstressed condition and below 1000 cubic metres a waterscarcity conditionp pShekhawat said major solutions centred on water use efficiency in agriculture recycling and reuse of sewage ground water recharge activities rainwater harvesting and inculcation of water sensitivity in the minds of the peoplep pThe conference comes amid ongoing water disputes between states including the decadesold SYL dispute where the Centres efforts to broker peace between Punjab and Haryana have failedp pThe meeting of Punjab CM Bhagwant Mann and his Haryana counterpart ML Khattar called by Shekhawat to find an amicable solution proved inconclusive on Wednesday with Punjab saying it cant build the canal as it has no water to sparep pThe matter will be reported to the Supreme Court which has asked the Centre to find a mediated settlement between the two statesp pThe next date of hearing in the SYL case is January 19p p\\n                                a classtagtext hrefnewstagnarendramodinarendra modia\\n                                a classtagtext hrefnewstagsutlejyamunalinkcanalsylSutlej Yamuna Link canal SYLa\\n                        p p classrelatednewsheadingAlso Readp p classcardtext font15i ariahiddentrue classfar faarrowaltcircleright topstorycirclerightip p classcardtext font15a hrefhttpswwwtribuneindiacomnewsharyanapunjabrefusingtoacceptscdecisionsaysharyanacmkhattar467483 target_blank titlePunjab refusing to accept Supreme Court decision says Haryana CM KhattarPunjab refusing to accept Supreme Court decision says Haryana CM Khattarap p classcardtext font15i ariahiddentrue classfar faarrowaltcircleright topstorycirclerightip p classcardtext font15a hrefhttpswwwtribuneindiacomnewspunjabnosparewatersaysmannbuildcanalinsistskhattar467416 target_blank titlePunjab has no spare water says Bhagwant Mann build canal insists Haryana CM KhattarPunjab has no spare water says Bhagwant Mann build canal insists Haryana CM Khattarap p\\n                    A\\n                    spanspan\\n                p p\\n                    A\\n                    spanspan\\n                p p classTDTYSubs\\n            SUBSCRIBE TO OUR NEWSLETTER\\n        p p classsubheadlineChetan Singh Jouramajra has been given charge of all departmp p classsubheadlineAll fivetime MLAs are expected to take oath as ministers sp p classsubheadlineIn September an audio clip went viral wherein the ministerp p classsubheadlineThe police sought his remand for three days saying he was rp p classsubheadlineCaucasian Shepherd can reach an average height of about 30 ip p classViewstoriesa hrefnewscityamritsarView Allap p classsubheadlinep p classsubheadlinep p classsubheadlinep p classsubheadlinep p classsubheadlinep p classsubheadlinep p classsubheadlinep p classsubheadlinep p classsubheadlinep p classsubheadlinep p classsubheadlinep p classsubheadlinep p classsubheadlinep p classsubheadlinep p classsubheadlinep p classsubheadlinep p classsubheadlinep p classsubheadlinep p classsubheadlinep p classsubheadlinep p classsubheadlinep p classsubheadlinep p classsubheadlinep p classsubheadlinep p classsubheadlinep p classsubheadlinep p classsubheadlinep p classsubheadlinep p classsubheadlinep p classsubheadlinep p classsubheadlinep p classsubheadlinep p classsubheadlinep p classsubheadlinep p classpara1The Tribune now published from Chandigarh started publication on February 2 1881 in Lahore now in Pakistan It was started by Sardar Dyal Singh Majithia a publicspirited philanthropist and is run by a trust comprising four eminent persons as trusteesp p classpara1The Tribune the largest selling English daily in North India publishes news and views without any bias or prejudice of any kind Restraint and moderation rather than agitational language and partisanship are the hallmarks of the paper It is an independent newspaper in the real sense of the termp pThe Tribune has two sister publications Punjabi Tribune in Punjabi and Dainik Tribune in Hindip p\\n                            a hrefnewsfeaturesrememberingourfounderE28094sardardyalsinghmajithia308855 stylecolor fff target_blankRemembering Sardar Dyal Singh Majithiaa\\n                        p p\\n                            Designed and Developed by a hrefhttpwwwgrazitticom target_blankGrazitti Interactivea\\n                        p'"
            ],
            "application/vnd.google.colaboratory.intrinsic+json": {
              "type": "string"
            }
          },
          "metadata": {},
          "execution_count": 59
        }
      ]
    },
    {
      "cell_type": "code",
      "source": [
        "\n",
        "\n",
        "url = df[\"link\"][1]\n",
        "r1 = requests.get(url)\n",
        "\n",
        "\n",
        "# We'll save in coverpage the cover page content\n",
        "coverpage = r1.content\n",
        "\n",
        "# Soup creation\n",
        "soup1 = BeautifulSoup(coverpage, 'html5lib')\n",
        "\n",
        "# News identification using ner\n",
        "cover = soup1.find_all('p')\n",
        "\n",
        "cov = cleanhtml(str(cover))\n",
        "\n",
        "\"\"\"\n",
        "#Using Named Entity Recognition\n",
        "from nltk.tokenize import sent_tokenize\n",
        "text = coverpage\n",
        "lst = sent_tokenize(text)\n",
        "for i in lst:\n",
        "  article = nlp(i)\n",
        "  for ent in article.ents:\n",
        "    if (ent.label_ == \"PERSON\" and ent.text == \"Narendra Modi\"):  #and ent.text == \"Anthony Albanese\"\n",
        "      a.append(i)\n",
        "\n",
        "#converting bs4.element.ResultSet to string so that it can be processeable\n",
        "\n",
        "\n",
        "#cleaning the html tags \n",
        "\n",
        "\n",
        "result = sentiment(coverpage)\n",
        "\n",
        "Sentiment_list.append(result)\n",
        "print(Sentiment_list)\n",
        "print(a)\n",
        "\"\"\"\n",
        "print(cov)"
      ],
      "metadata": {
        "colab": {
          "base_uri": "https://localhost:8080/"
        },
        "id": "bnzttZZxeKZg",
        "outputId": "08d8e637-c5ef-4799-b375-f2936fd92fc7"
      },
      "execution_count": null,
      "outputs": [
        {
          "output_type": "stream",
          "name": "stdout",
          "text": [
            "[, Follow Us, \n",
            "                    Epaper\n",
            "                    \n",
            "                , Login   /  Register,  , \n",
            "                    A\n",
            "                    -\n",
            "                , \n",
            "                    A\n",
            "                    +\n",
            "                , \n",
            "                            Updated At:\n",
            "\n",
            "                            \n",
            "                                Jan 06, 2023\n",
            "                            \n",
            "                            \n",
            "                            12:24 PM (IST)\n",
            "                        ,  File photo of Darshan Singh Dhaliwal, \n",
            "                    PTI\n",
            "\n",
            ", \n",
            "    \n",
            "        \n",
            "    \n",
            ", Washington, January 6, Prime Minister Narendra Modi is \"really going out of his way\" to work with the Sikh community, both inside and outside India, Indian-American businessman and philanthropist Darshan Singh Dhaliwal said Thursday., Dhaliwal has been selected as one of the 27 recipients of the Pravasi Bharatiya Samman this year., \"I think Modi is doing a lot for the Sikh community. He's doing a lot for the country, but especially for the Sikhs he is doing a lot. And I don't know what else can he do? He is really going out of his way to work with the Sikh community,\" he told PTI in an interview., Dhaliwal is one of the two recipients from the US of this year's Pravasi Bharatiya Samman, the highest honour given by the Indian government to people of Indian origin. Rajesh Subramaniam, CEO of FedEx, is the other awardee., The two along with other recipients would be presented the prestigious award by the Indian President during the Pravasi Bharatiya Divas in Indore from January 8-10., Originally from Punjab, Dhaliwal immigrated to the US in 1972. He along with his brothers started their business in the gasoline and real estate sectors. He has multiple businesses including over 1,000 petrol stations with a reported annual sales of USD 2 billion., \"I'm really thankful to the Indian government (for this award). I was actually surprised (when I saw my name among the awardees). It came as a shock to me that I'm getting the reward,” said Dhaliwal, who leaves this week for India to attend the PBD meeting in Indore., \"I think we have got the best prime minister. We should work with him and help him to achieve what he wants to do. He's doing great for the country and when India does good, we (people of Indian origin) do good,” Dhaliwal said in response to a question., , \n",
            "                    A\n",
            "                    -\n",
            "                , \n",
            "                    A\n",
            "                    +\n",
            "                , \n",
            "            SUBSCRIBE TO OUR NEWSLETTER\n",
            "        , Chetan Singh Jouramajra has been given charge of all departm..., All five-time MLAs are expected to take oath as ministers, s..., In September, an audio clip went viral, wherein the minister..., The police sought his remand for three days, saying he was r..., Caucasian Shepherd can reach an average height of about 30 i..., View All, , , , , , , , , , , , , , , , , , , , , , , , , , , , , , , , , , , The Tribune, now published from Chandigarh, started publication on February 2, 1881, in Lahore (now in Pakistan). It was started by Sardar Dyal Singh Majithia, a public-spirited philanthropist, and is run by a trust comprising four eminent persons as trustees., The Tribune, the largest selling English daily in North India, publishes news and views without any bias or prejudice of any kind. Restraint and moderation, rather than agitational language and partisanship, are the hallmarks of the paper. It is an independent newspaper in the real sense of the term., The Tribune has two sister publications, Punjabi Tribune (in Punjabi) and Dainik Tribune (in Hindi)., \n",
            "                            Remembering Sardar Dyal Singh Majithia\n",
            "                        , \n",
            "                            Designed and Developed by: Grazitti Interactive\n",
            "                        ]\n"
          ]
        }
      ]
    },
    {
      "cell_type": "code",
      "source": [],
      "metadata": {
        "id": "KTd5d96lmJcG"
      },
      "execution_count": null,
      "outputs": []
    },
    {
      "cell_type": "code",
      "source": [
        "df['ner_sentiment'] = a"
      ],
      "metadata": {
        "id": "XFT0X1zhesHR"
      },
      "execution_count": null,
      "outputs": []
    },
    {
      "cell_type": "code",
      "source": [
        "df.head(10)"
      ],
      "metadata": {
        "id": "T6hpHc4ygRqJ"
      },
      "execution_count": null,
      "outputs": []
    },
    {
      "cell_type": "code",
      "source": [],
      "metadata": {
        "id": "CJKKhpb7gTsU"
      },
      "execution_count": null,
      "outputs": []
    }
  ]
}